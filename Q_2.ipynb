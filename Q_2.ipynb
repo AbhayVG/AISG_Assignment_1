{
 "cells": [
  {
   "cell_type": "code",
   "execution_count": null,
   "metadata": {},
   "outputs": [],
   "source": [
    "\n",
    "from ultralytics import YOLO\n",
    "import os\n",
    "import numpy as np\n",
    "from PIL import Image\n",
    "import pandas as pd\n",
    "from supervision.detection.utils import box_iou_batch\n",
    "import warnings\n",
    "warnings.simplefilter(action='ignore', category=FutureWarning)\n",
    "\n",
    "# This script containes all the code for IOU and AP computation\n",
    "from utils import compute_iou, Compute_AP, generate_boxes,Compute_AP_withboxes"
   ]
  },
  {
   "cell_type": "markdown",
   "metadata": {},
   "source": [
    "# Q1\n",
    "\n",
    "Write a function to compute IoU (Intersection over Union) between two axis-aligned bounding boxes specified in the Ultralytics YOLO format.\n",
    "\n",
    "You MUST use the shapely library and its functionalities to write your function. \n",
    "\n",
    "Show that your function provides the same or similar answer as IoU computed using `supervision` library \n"
   ]
  },
  {
   "cell_type": "code",
   "execution_count": null,
   "metadata": {},
   "outputs": [],
   "source": [
    "# Load YOLO model\n",
    "model = YOLO(\"runs/detect/train10/weights/best.pt\")\n",
    "test_img_dir = \"data/test/images\"\n",
    "test_label_dir = \"data/test/labels\"\n",
    "\n",
    "# Load test images and labels\n",
    "test_images = np.sort(os.listdir(test_img_dir))\n",
    "test_labels = np.sort(os.listdir(test_label_dir))\n",
    "\n",
    "imgs = [Image.open(os.path.join(test_img_dir, img)) for img in test_images]\n",
    "\n",
    "gt_box = []\n",
    "for label in test_labels:\n",
    "    data = pd.read_csv(os.path.join(test_label_dir, label), header=None, sep=\" \")\n",
    "    boxes = []\n",
    "    \n",
    "    # Converting xc, yc, w, h to x1, y1, x2, y2\n",
    "    for _, row in data.iterrows():\n",
    "        xc, yc, w, h = row[1:].values \n",
    "        x1 = (xc - w / 2) * 416\n",
    "        y1 = (yc - h / 2) * 416\n",
    "        x2 = (xc + w / 2) * 416\n",
    "        y2 = (yc + h / 2) * 416\n",
    "        boxes.append([x1, y1, x2, y2]) \n",
    "    \n",
    "    gt_box.append(np.array(boxes))  \n",
    "\n",
    "# Run YOLO model\n",
    "results = model(imgs, verbose=False)\n",
    "\n",
    "# delete the imgs to save space\n",
    "del imgs\n",
    "\n",
    "pred_box = [result.boxes.xyxy.cpu().numpy() for result in results]"
   ]
  },
  {
   "cell_type": "code",
   "execution_count": 62,
   "metadata": {},
   "outputs": [
    {
     "name": "stdout",
     "output_type": "stream",
     "text": [
      "0.7984642933999669\n"
     ]
    }
   ],
   "source": [
    "# Compute IoU using `shapely` library\n",
    "iou_values = []\n",
    "for gt, pred in zip(gt_box, pred_box):  \n",
    "\n",
    "    if len(pred) == 0 or len(gt) == 0:\n",
    "        continue\n",
    "\n",
    "    # Extract the IoU scores\n",
    "    iou_matrix,_ = compute_iou(pred, gt)\n",
    "    max_ious = np.max(iou_matrix, axis=0) \n",
    "    iou_values.extend(max_ious)\n",
    "\n",
    "print(np.nanmean(iou_values))  # Print mean IoU"
   ]
  },
  {
   "cell_type": "code",
   "execution_count": 63,
   "metadata": {},
   "outputs": [
    {
     "name": "stdout",
     "output_type": "stream",
     "text": [
      "0.798464293117701\n"
     ]
    }
   ],
   "source": [
    "# compute using the supervision library\n",
    "iou_scores = []\n",
    "for gt, pred in zip(gt_box, pred_box):  \n",
    "\n",
    "    if len(pred) == 0 or len(gt) == 0:\n",
    "        continue\n",
    "\n",
    "    # Extract the IoU scores\n",
    "    iou_matrix = box_iou_batch(gt, pred)  \n",
    "    max_ious = np.max(iou_matrix, axis=1) \n",
    "    iou_scores.extend(max_ious)\n",
    "\n",
    "print(np.nanmean(iou_scores))"
   ]
  },
  {
   "cell_type": "markdown",
   "metadata": {},
   "source": [
    "# Q2\n",
    "### Write a function to compute Average Precision (AP)\n",
    "\n",
    "a) Use Pascal VOC 11 point interpolation method to implement the function \n",
    "\n",
    "b) Use COCO 101-point interpolation method to implement the function \n",
    "\n",
    "c) Use Area under Precision-Recall Curve (AP) method to implement the function "
   ]
  },
  {
   "cell_type": "code",
   "execution_count": 14,
   "metadata": {},
   "outputs": [
    {
     "name": "stdout",
     "output_type": "stream",
     "text": [
      "Precision calculated using Pascal VOC 11 Interpolation criterion:  0.9795082563390765\n",
      "Precision calculated using Pascal VOC 11 Area Under Curve criterion:  0.9868111473955046\n",
      "Precision calculated using COCO 101 Interpolation criterion:  0.9819969832421995\n",
      "Precision calculated using COCO 101 Area Under Curve criterion:  0.9825950238853318\n"
     ]
    }
   ],
   "source": [
    "ap , _ = Compute_AP(model, test_images, test_labels, r_levels=\"Pascal_VOC11\" , method=\"Interpolation\")\n",
    "print(\"Precision calculated using Pascal VOC 11 Interpolation criterion: \", ap)\n",
    "\n",
    "ap , _ = Compute_AP(model, test_images, test_labels, r_levels=\"Pascal_VOC11\" , method=\"Area_Under_Curve\")\n",
    "print(\"Precision calculated using Pascal VOC 11 Area Under Curve criterion: \", ap)\n",
    "\n",
    "ap , _ = Compute_AP(model, test_images, test_labels, r_levels=\"COCO_101\" , method=\"Interpolation\")\n",
    "print(\"Precision calculated using COCO 101 Interpolation criterion: \", ap)\n",
    "\n",
    "ap , _ = Compute_AP(model, test_images, test_labels, r_levels=\"COCO_101\" , method=\"Area_Under_Curve\")\n",
    "print(\"Precision calculated using COCO 101 Area Under Curve criterion: \", ap)"
   ]
  },
  {
   "cell_type": "markdown",
   "metadata": {},
   "source": [
    "d) Randomly generate 10 images of size 100x100. Randomly generate 10 ground truth boxes of size 20x20 and 10 predicted boxes of size 20x20 in each image. \n",
    "\n",
    "Assume there is only one class of objects. Compare the AP50 (Average Precision at IoU 0.5) computed by 3 of your methods"
   ]
  },
  {
   "cell_type": "code",
   "execution_count": 28,
   "metadata": {},
   "outputs": [],
   "source": [
    "img_sz = (100,100)\n",
    "\n",
    "random_gt = generate_boxes(10, img_sz,box_size=20)\n",
    "random_pred = generate_boxes(10, img_sz,box_size=20)\n",
    "conf = np.random.rand(len(random_pred))"
   ]
  },
  {
   "cell_type": "code",
   "execution_count": 29,
   "metadata": {},
   "outputs": [
    {
     "name": "stdout",
     "output_type": "stream",
     "text": [
      "Precision calculated using Pascal VOC 11 Interpolation criterion:  0.11688311688311687\n",
      "Precision calculated using Pascal VOC 11 Area Under Curve criterion:  0.0761904761904762\n",
      "Precision calculated using COCO 101 Interpolation criterion:  0.13154172560113153\n",
      "Precision calculated using COCO 101 Area Under Curve criterion:  0.011619047619047612\n"
     ]
    }
   ],
   "source": [
    "ap, _ = Compute_AP_withboxes(random_pred, random_gt, conf, r_levels=\"Pascal_VOC11\" , method=\"Interpolation\")\n",
    "print(\"Precision calculated using Pascal VOC 11 Interpolation criterion: \", ap)\n",
    "\n",
    "ap, _ = Compute_AP_withboxes(random_pred, random_gt, conf, r_levels=\"Pascal_VOC11\" , method=\"Area_Under_Curve\")\n",
    "print(\"Precision calculated using Pascal VOC 11 Area Under Curve criterion: \", ap)\n",
    "\n",
    "ap, _ = Compute_AP_withboxes(random_pred, random_gt, conf, r_levels=\"COCO_101\" , method=\"Interpolation\")\n",
    "print(\"Precision calculated using COCO 101 Interpolation criterion: \", ap)\n",
    "\n",
    "ap, _ = Compute_AP_withboxes(random_pred, random_gt, conf, r_levels=\"COCO_101\" , method=\"Area_Under_Curve\")\n",
    "print(\"Precision calculated using COCO 101 Area Under Curve criterion: \", ap)"
   ]
  },
  {
   "cell_type": "markdown",
   "metadata": {},
   "source": [
    "### Random Trials"
   ]
  },
  {
   "cell_type": "code",
   "execution_count": 36,
   "metadata": {},
   "outputs": [],
   "source": [
    "n_trials = 10000\n",
    "\n",
    "results_df = pd.DataFrame(columns=[\"Pascal_VOC11_Interpolation\", \"Pascal_VOC11_Area_Under_Curve\", \"COCO_101_Interpolation\", \"COCO_101_Area_Under_Curve\"])\n",
    "\n",
    "for i in range(n_trials):\n",
    "    random_gt = generate_boxes(10, img_sz,box_size=20)\n",
    "    random_pred = generate_boxes(10, img_sz,box_size=20)\n",
    "    conf = np.random.rand(len(random_pred))\n",
    "\n",
    "    ap, _ = Compute_AP_withboxes(random_pred, random_gt, conf, r_levels=\"Pascal_VOC11\" , method=\"Interpolation\")\n",
    "    results_df.loc[i, \"Pascal_VOC11_Interpolation\"] = ap\n",
    "\n",
    "    ap, _ = Compute_AP_withboxes(random_pred, random_gt, conf, r_levels=\"Pascal_VOC11\" , method=\"Area_Under_Curve\")\n",
    "    results_df.loc[i, \"Pascal_VOC11_Area_Under_Curve\"] = ap\n",
    "\n",
    "    ap, _ = Compute_AP_withboxes(random_pred, random_gt, conf, r_levels=\"COCO_101\" , method=\"Interpolation\")\n",
    "    results_df.loc[i, \"COCO_101_Interpolation\"] = ap\n",
    "\n",
    "    ap, _ = Compute_AP_withboxes(random_pred, random_gt, conf, r_levels=\"COCO_101\" , method=\"Area_Under_Curve\")\n",
    "    results_df.loc[i, \"COCO_101_Area_Under_Curve\"] = ap"
   ]
  },
  {
   "cell_type": "code",
   "execution_count": 38,
   "metadata": {},
   "outputs": [
    {
     "data": {
      "text/plain": [
       "Pascal_VOC11_Interpolation       0.077653\n",
       "Pascal_VOC11_Area_Under_Curve    0.048609\n",
       "COCO_101_Interpolation           0.059844\n",
       "COCO_101_Area_Under_Curve        0.005438\n",
       "dtype: object"
      ]
     },
     "execution_count": 38,
     "metadata": {},
     "output_type": "execute_result"
    }
   ],
   "source": [
    "results_df.mean(axis=0)  # Print mean AP for each criterion"
   ]
  }
 ],
 "metadata": {
  "kernelspec": {
   "display_name": "Ayush2",
   "language": "python",
   "name": "python3"
  },
  "language_info": {
   "codemirror_mode": {
    "name": "ipython",
    "version": 3
   },
   "file_extension": ".py",
   "mimetype": "text/x-python",
   "name": "python",
   "nbconvert_exporter": "python",
   "pygments_lexer": "ipython3",
   "version": "3.9.19"
  }
 },
 "nbformat": 4,
 "nbformat_minor": 2
}
