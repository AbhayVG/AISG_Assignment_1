{
 "cells": [
  {
   "cell_type": "code",
   "execution_count": 44,
   "metadata": {},
   "outputs": [],
   "source": [
    "#down that .zip file and extract it\n",
    "import requests\n",
    "import zipfile\n",
    "import io\n",
    "import os\n",
    "from collections import defaultdict\n",
    "import os"
   ]
  },
  {
   "cell_type": "code",
   "execution_count": 45,
   "metadata": {},
   "outputs": [],
   "source": [
    "labels_dir=\"/home/rishabh.mondal/AISG_Assignment_1/labels/labels_native\"\n",
    "images_dir = \"/home/rishabh.mondal/AISG_Assignment_1/image_chips_native\" "
   ]
  },
  {
   "cell_type": "markdown",
   "metadata": {},
   "source": [
    "#### How many instances of solar panels are present in the dataset?\n"
   ]
  },
  {
   "cell_type": "code",
   "execution_count": 46,
   "metadata": {},
   "outputs": [
    {
     "data": {
      "text/plain": [
       "'Total number of solar panels: 29625'"
      ]
     },
     "metadata": {},
     "output_type": "display_data"
    },
    {
     "data": {
      "text/plain": [
       "'Label 0: 29267 instances'"
      ]
     },
     "metadata": {},
     "output_type": "display_data"
    },
    {
     "data": {
      "text/plain": [
       "'Label 1: 130 instances'"
      ]
     },
     "metadata": {},
     "output_type": "display_data"
    },
    {
     "data": {
      "text/plain": [
       "'Label 2: 228 instances'"
      ]
     },
     "metadata": {},
     "output_type": "display_data"
    }
   ],
   "source": [
    "label_count=defaultdict(int)\n",
    "total_count=0\n",
    "for filename in os.listdir(labels_dir):\n",
    "    if filename.endswith(\".txt\"):  # Ensure we process only .txt files\n",
    "        with open(os.path.join(labels_dir, filename), \"r\") as f:\n",
    "            for line in f:\n",
    "                label = int(line.split()[0])  \n",
    "                label_count[label] += 1\n",
    "                total_count += 1\n",
    "\n",
    "display(f\"Total number of solar panels: {total_count}\")\n",
    "for label, count in sorted(label_count.items()):\n",
    "    display(f\"Label {label}: {count} instances\")"
   ]
  },
  {
   "cell_type": "markdown",
   "metadata": {},
   "source": [
    "#### Compute and show the value counts of labels per image. E.g., X images have 0 labels, Y images have 1 label, … and so on."
   ]
  },
  {
   "cell_type": "code",
   "execution_count": 47,
   "metadata": {},
   "outputs": [
    {
     "data": {
      "text/plain": [
       "'Number of .tif files: 2542'"
      ]
     },
     "metadata": {},
     "output_type": "display_data"
    },
    {
     "data": {
      "text/plain": [
       "'Number of .txt files: 2542'"
      ]
     },
     "metadata": {},
     "output_type": "display_data"
    },
    {
     "name": "stdout",
     "output_type": "stream",
     "text": [
      "Images without Labels (.tif but no .txt) []\n",
      "Labels without Images (.txt but no .tif) []\n",
      "Number of images without labels: 0\n"
     ]
    }
   ],
   "source": [
    "# Count .tif images\n",
    "tif_files = [f for f in os.listdir(images_dir) if f.endswith('.tif')]\n",
    "num_tif_files = len(tif_files)\n",
    "\n",
    "# Count .txt label files\n",
    "txt_files = [f for f in os.listdir(labels_dir) if f.endswith('.txt')]\n",
    "num_txt_files = len(txt_files)\n",
    "\n",
    "display(f\"Number of .tif files: {num_tif_files}\")\n",
    "display(f\"Number of .txt files: {num_txt_files}\")\n",
    "\n",
    "tif_files = {os.path.splitext(f)[0] for f in os.listdir(images_dir) if f.endswith('.tif')}\n",
    "txt_files = {os.path.splitext(f)[0] for f in os.listdir(labels_dir) if f.endswith('.txt')}\n",
    "\n",
    "# Find mismatches\n",
    "tif_without_txt = tif_files - txt_files  # .tif images without corresponding .txt labels\n",
    "txt_without_tif = txt_files - tif_files  # .txt labels without corresponding .tif images\n",
    "\n",
    "# Display results\n",
    "mismatch_data = {\n",
    "    \"Images without Labels (.tif but no .txt)\": list(tif_without_txt),\n",
    "    \"Labels without Images (.txt but no .tif)\": list(txt_without_tif)\n",
    "}\n",
    "print(\"Images without Labels (.tif but no .txt)\",mismatch_data[\"Images without Labels (.tif but no .txt)\"])\n",
    "print(\"Labels without Images (.txt but no .tif)\",mismatch_data[\"Labels without Images (.txt but no .tif)\"])\n",
    "print(f\"Number of images without labels: {len(tif_without_txt)}\")\n"
   ]
  },
  {
   "cell_type": "code",
   "execution_count": 48,
   "metadata": {},
   "outputs": [
    {
     "name": "stdout",
     "output_type": "stream",
     "text": [
      "Images without Labels (.tif but no .txt) []\n",
      "Labels without Images (.txt but no .tif) []\n",
      "Number of images without labels: 0\n"
     ]
    }
   ],
   "source": [
    "## remove the images without labels\n",
    "#remove the files that do not have labels\n",
    "for file in mismatch_data[\"Images without Labels (.tif but no .txt)\"]:\n",
    "    os.remove(images_dir + \"/\" + file + \".tif\")\n",
    "\n",
    "\n",
    "tif_files = {os.path.splitext(f)[0] for f in os.listdir(images_dir) if f.endswith('.tif')}\n",
    "txt_files = {os.path.splitext(f)[0] for f in os.listdir(labels_dir) if f.endswith('.txt')}\n",
    "\n",
    "# Find mismatches\n",
    "tif_without_txt = tif_files - txt_files  # .tif images without corresponding .txt labels\n",
    "txt_without_tif = txt_files - tif_files  # .txt labels without corresponding .tif images\n",
    "\n",
    "# Display results\n",
    "mismatch_data = {\n",
    "    \"Images without Labels (.tif but no .txt)\": list(tif_without_txt),\n",
    "    \"Labels without Images (.txt but no .tif)\": list(txt_without_tif)\n",
    "}\n",
    "print(\"Images without Labels (.tif but no .txt)\",mismatch_data[\"Images without Labels (.tif but no .txt)\"])\n",
    "print(\"Labels without Images (.txt but no .tif)\",mismatch_data[\"Labels without Images (.txt but no .tif)\"])\n",
    "print(f\"Number of images without labels: {len(tif_without_txt)}\")\n"
   ]
  },
  {
   "cell_type": "code",
   "execution_count": 49,
   "metadata": {},
   "outputs": [
    {
     "name": "stdout",
     "output_type": "stream",
     "text": [
      "\n",
      "=== Solar Panels per Image ===\n"
     ]
    },
    {
     "data": {
      "text/html": [
       "<div>\n",
       "<style scoped>\n",
       "    .dataframe tbody tr th:only-of-type {\n",
       "        vertical-align: middle;\n",
       "    }\n",
       "\n",
       "    .dataframe tbody tr th {\n",
       "        vertical-align: top;\n",
       "    }\n",
       "\n",
       "    .dataframe thead th {\n",
       "        text-align: right;\n",
       "    }\n",
       "</style>\n",
       "<table border=\"1\" class=\"dataframe\">\n",
       "  <thead>\n",
       "    <tr style=\"text-align: right;\">\n",
       "      <th></th>\n",
       "      <th>Image</th>\n",
       "      <th>Solar Panels</th>\n",
       "    </tr>\n",
       "  </thead>\n",
       "  <tbody>\n",
       "    <tr>\n",
       "      <th>0</th>\n",
       "      <td>solarpanels_native_1__x0_2101_y0_7156_dxdy_416...</td>\n",
       "      <td>5</td>\n",
       "    </tr>\n",
       "    <tr>\n",
       "      <th>1</th>\n",
       "      <td>solarpanels_native_1__x0_9465_y0_10759_dxdy_41...</td>\n",
       "      <td>12</td>\n",
       "    </tr>\n",
       "    <tr>\n",
       "      <th>2</th>\n",
       "      <td>solarpanels_native_1__x0_1102_y0_6355_dxdy_416...</td>\n",
       "      <td>10</td>\n",
       "    </tr>\n",
       "    <tr>\n",
       "      <th>3</th>\n",
       "      <td>solarpanels_native_2__x0_569_y0_10724_dxdy_416...</td>\n",
       "      <td>53</td>\n",
       "    </tr>\n",
       "    <tr>\n",
       "      <th>4</th>\n",
       "      <td>solarpanels_native_2__x0_0_y0_14471_dxdy_416.txt</td>\n",
       "      <td>6</td>\n",
       "    </tr>\n",
       "  </tbody>\n",
       "</table>\n",
       "</div>"
      ],
      "text/plain": [
       "                                               Image  Solar Panels\n",
       "0  solarpanels_native_1__x0_2101_y0_7156_dxdy_416...             5\n",
       "1  solarpanels_native_1__x0_9465_y0_10759_dxdy_41...            12\n",
       "2  solarpanels_native_1__x0_1102_y0_6355_dxdy_416...            10\n",
       "3  solarpanels_native_2__x0_569_y0_10724_dxdy_416...            53\n",
       "4   solarpanels_native_2__x0_0_y0_14471_dxdy_416.txt             6"
      ]
     },
     "metadata": {},
     "output_type": "display_data"
    }
   ],
   "source": [
    "label_files = [f for f in os.listdir(labels_dir) if f.endswith('.txt')]\n",
    "\n",
    "total_solar_panels = 0\n",
    "label_count=[]\n",
    "print(\"\\n=== Solar Panels per Image ===\")\n",
    "for label_file in label_files:\n",
    "    label_path = os.path.join(labels_dir, label_file)\n",
    "    \n",
    "    with open(label_path, \"r\") as f:\n",
    "        lines = f.readlines()\n",
    "    \n",
    "    num_panels = len(lines)  # Count number of solar panels in the image\n",
    "    total_solar_panels += num_panels\n",
    "    label_count.append(num_panels)\n",
    "\n",
    "    # print(f\"{label_file}: {num_panels} solar panels\")  \n",
    "#make a dataframe with the number of solar panels in each image and the image name\n",
    "import pandas as pd\n",
    "import numpy as np\n",
    "df = pd.DataFrame({\"Image\": label_files, \"Solar Panels\": label_count})\n",
    "# df = df.sort_values(\"Solar Panels\", a)\n",
    "df = df.reset_index(drop=True)  \n",
    "display(df.head(5))\n",
    "df.to_csv(\"solar_panels_per_image.csv\", index=False)\n"
   ]
  }
 ],
 "metadata": {
  "kernelspec": {
   "display_name": "rishabh_sat",
   "language": "python",
   "name": "python3"
  },
  "language_info": {
   "codemirror_mode": {
    "name": "ipython",
    "version": 3
   },
   "file_extension": ".py",
   "mimetype": "text/x-python",
   "name": "python",
   "nbconvert_exporter": "python",
   "pygments_lexer": "ipython3",
   "version": "3.12.4"
  }
 },
 "nbformat": 4,
 "nbformat_minor": 2
}
