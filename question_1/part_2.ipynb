{
 "cells": [
  {
   "cell_type": "code",
   "execution_count": 6,
   "metadata": {},
   "outputs": [],
   "source": [
    "#down that .zip file and extract it\n",
    "import requests\n",
    "import zipfile\n",
    "import io\n",
    "import os\n",
    "from collections import defaultdict\n",
    "import os\n",
    "import numpy as np\n",
    "import pandas as pd\n",
    "import matplotlib.pyplot as plt"
   ]
  },
  {
   "cell_type": "code",
   "execution_count": 2,
   "metadata": {},
   "outputs": [],
   "source": [
    "\n",
    "labels_dir=\"/home/rishabh.mondal/AISG_Assignment_1/labels/labels_native\"\n",
    "images_dir = \"/home/rishabh.mondal/AISG_Assignment_1/image_chips_native\" "
   ]
  },
  {
   "cell_type": "markdown",
   "metadata": {},
   "source": [
    "#### What method was used to compute the area (in meters) for a single instance?\n"
   ]
  },
  {
   "cell_type": "markdown",
   "metadata": {},
   "source": [
    "\n",
    "x_center_pixel = x_center * 416\n",
    "y_center_pixel = y_center * 416\n",
    "width_pixel = x_width * 416\n",
    "height_pixel = y_width * 416\n",
    "\n",
    "because the native images are 416*416 pixels.\n",
    "\n",
    "To convert to real-world meter values, we use the dataset's provided geotransform ie, 1 pixel is equivalent to 0.31 meters. Hence:\n",
    "width_meters = width_pixel * 0.31\n",
    "height_meters = height_pixel * 0.31\n",
    "area_meters = width_meters * height_meters\n",
    "\n"
   ]
  },
  {
   "cell_type": "markdown",
   "metadata": {},
   "source": [
    "#### What is the mean area and standard deviation?\n"
   ]
  },
  {
   "cell_type": "code",
   "execution_count": 8,
   "metadata": {},
   "outputs": [
    {
     "name": "stdout",
     "output_type": "stream",
     "text": [
      "\n",
      "=== Solar Panels per Image ===\n",
      "\n",
      "=== Dataset Statistics ===\n",
      "   Total Solar Panel Instances  Mean Area (m²)  Std Dev of Area (m²)  \\\n",
      "0                        29625      191.517828            630.700336   \n",
      "\n",
      "   Min Area (m²)  Max Area (m²)  \n",
      "0         1.0571     12177.4076  \n",
      "\n",
      "✅ Statistics saved to 'solar_panel_statistics.csv'\n"
     ]
    },
    {
     "data": {
      "image/png": "[encoded data removed]",
      "text/plain": [
       "<Figure size 800x600 with 1 Axes>"
      ]
     },
     "metadata": {},
     "output_type": "display_data"
    }
   ],
   "source": [
    "# List all .txt label files\n",
    "label_files = [f for f in os.listdir(labels_dir) if f.endswith('.txt')]\n",
    "\n",
    "# Initialize statistics\n",
    "total_solar_panels = 0\n",
    "label_counts = []  # Stores the number of labels per image\n",
    "panel_areas = []  # Stores area of panels in square meters\n",
    "\n",
    "resolution = 0.31  # 31 cm per pixel\n",
    "image_size = 416  # Image size (YOLO format assumes square images)\n",
    "\n",
    "# Process each label file\n",
    "print(\"\\n=== Solar Panels per Image ===\")\n",
    "for label_file in label_files:\n",
    "    label_path = os.path.join(labels_dir, label_file)\n",
    "    \n",
    "    with open(label_path, \"r\") as f:\n",
    "        lines = f.readlines()\n",
    "    \n",
    "    num_panels = len(lines)  # Count number of solar panels in the image\n",
    "    total_solar_panels += num_panels\n",
    "    label_counts.append(num_panels)\n",
    "\n",
    "    # print(f\"{label_file}: {num_panels} solar panels\")  # Print per-image count\n",
    "\n",
    "    # Compute areas\n",
    "    for line in lines:\n",
    "        parts = line.strip().split()\n",
    "        _, _, _, width, height = map(float, parts)  # YOLO format: class x_center y_center width height\n",
    "        panel_area = (width * image_size * resolution) * (height * image_size * resolution)  # Convert to m²\n",
    "        panel_areas.append(panel_area)\n",
    "\n",
    "# Compute statistics\n",
    "mean_area = np.mean(panel_areas)\n",
    "std_area = np.std(panel_areas)\n",
    "\n",
    "# Prepare data for display\n",
    "dataset_stats = {\n",
    "    \"Total Solar Panel Instances\": total_solar_panels,\n",
    "    \"Mean Area (m²)\": mean_area,\n",
    "    \"Std Dev of Area (m²)\": std_area,\n",
    "    \"Min Area (m²)\": np.min(panel_areas),\n",
    "    \"Max Area (m²)\": np.max(panel_areas),\n",
    "}\n",
    "\n",
    "# Convert to DataFrame for easy viewing & saving\n",
    "dataset_stats_df = pd.DataFrame([dataset_stats])\n",
    "\n",
    "# Print dataset statistics\n",
    "print(\"\\n=== Dataset Statistics ===\")\n",
    "print(dataset_stats_df)\n",
    "\n",
    "# Save dataset statistics to CSV file\n",
    "dataset_stats_df.to_csv(\"solar_panel_statistics.csv\", index=False)\n",
    "print(\"\\n✅ Statistics saved to 'solar_panel_statistics.csv'\")\n",
    "\n",
    "# Plot histogram of solar panel areas\n",
    "plt.figure(figsize=(8, 6))\n",
    "plt.hist(panel_areas, bins=30, edgecolor=\"black\")\n",
    "plt.xlabel(\"Area (m²)\")\n",
    "plt.ylabel(\"Count\")\n",
    "plt.title(\"Distribution of Solar Panel Areas\")\n",
    "plt.show()"
   ]
  },
  {
   "cell_type": "markdown",
   "metadata": {},
   "source": [
    "#### Upon plotting the histogram, we observe that most solar panels have areas around 200 sq meters, with the mean being 191.52 sq meters and std being 630.7 sq meters\n"
   ]
  }
 ],
 "metadata": {
  "kernelspec": {
   "display_name": "rishabh_sat",
   "language": "python",
   "name": "python3"
  },
  "language_info": {
   "codemirror_mode": {
    "name": "ipython",
    "version": 3
   },
   "file_extension": ".py",
   "mimetype": "text/x-python",
   "name": "python",
   "nbconvert_exporter": "python",
   "pygments_lexer": "ipython3",
   "version": "3.12.4"
  }
 },
 "nbformat": 4,
 "nbformat_minor": 2
}
